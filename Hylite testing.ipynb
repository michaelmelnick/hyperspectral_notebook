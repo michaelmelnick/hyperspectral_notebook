{
 "cells": [
  {
   "cell_type": "code",
   "execution_count": 1,
   "id": "632055b6-1c3e-461a-92db-603f61283bb3",
   "metadata": {
    "tags": []
   },
   "outputs": [
    {
     "name": "stdout",
     "output_type": "stream",
     "text": [
      "Collecting hylite\n",
      "  Downloading hylite-1.21-py3-none-any.whl (6.5 MB)\n",
      "\u001b[2K     \u001b[90m━━━━━━━━━━━━━━━━━━━━━━━━━━━━━━━━━━━━━━━━\u001b[0m \u001b[32m6.5/6.5 MB\u001b[0m \u001b[31m2.7 MB/s\u001b[0m eta \u001b[36m0:00:00\u001b[0m00:01\u001b[0m00:01\u001b[0m\n",
      "\u001b[?25hCollecting astral\n",
      "  Downloading astral-3.2-py3-none-any.whl (38 kB)\n",
      "Collecting opencv-contrib-python>=4.5\n",
      "  Downloading opencv_contrib_python-4.7.0.72-cp37-abi3-manylinux_2_17_aarch64.manylinux2014_aarch64.whl (45.0 MB)\n",
      "\u001b[2K     \u001b[90m━━━━━━━━━━━━━━━━━━━━━━━━━━━━━━━━━━━━━━━━\u001b[0m \u001b[32m45.0/45.0 MB\u001b[0m \u001b[31m2.9 MB/s\u001b[0m eta \u001b[36m0:00:00\u001b[0m00:01\u001b[0m00:01\u001b[0m\n",
      "\u001b[?25hRequirement already satisfied: scipy>=1.4 in /opt/conda/lib/python3.10/site-packages (from hylite) (1.10.1)\n",
      "Requirement already satisfied: imageio in /opt/conda/lib/python3.10/site-packages (from hylite) (2.26.1)\n",
      "Collecting gfit\n",
      "  Downloading gfit-0.2.tar.gz (11 kB)\n",
      "  Preparing metadata (setup.py) ... \u001b[?25ldone\n",
      "\u001b[?25hCollecting utm\n",
      "  Downloading utm-0.7.0.tar.gz (8.7 kB)\n",
      "  Preparing metadata (setup.py) ... \u001b[?25ldone\n",
      "\u001b[?25hCollecting roipoly\n",
      "  Downloading roipoly-0.5.3.tar.gz (9.4 kB)\n",
      "  Preparing metadata (setup.py) ... \u001b[?25ldone\n",
      "\u001b[?25hRequirement already satisfied: spectral in /opt/conda/lib/python3.10/site-packages (from hylite) (0.23.1)\n",
      "Requirement already satisfied: scikit-image in /opt/conda/lib/python3.10/site-packages (from hylite) (0.19.3)\n",
      "Collecting plyfile\n",
      "  Downloading plyfile-0.9-py3-none-any.whl (30 kB)\n",
      "Requirement already satisfied: tqdm in /opt/conda/lib/python3.10/site-packages (from hylite) (4.65.0)\n",
      "Requirement already satisfied: numba in /opt/conda/lib/python3.10/site-packages (from hylite) (0.56.4)\n",
      "Requirement already satisfied: numpy in /opt/conda/lib/python3.10/site-packages (from hylite) (1.23.5)\n",
      "Collecting piexif\n",
      "  Downloading piexif-1.1.3-py2.py3-none-any.whl (20 kB)\n",
      "Requirement already satisfied: opencv-python>=4.5 in /opt/conda/lib/python3.10/site-packages (from hylite) (4.7.0.72)\n",
      "Requirement already satisfied: matplotlib>=3 in /opt/conda/lib/python3.10/site-packages (from hylite) (3.7.1)\n",
      "Collecting laspy\n",
      "  Downloading laspy-2.4.1.tar.gz (1.3 MB)\n",
      "\u001b[2K     \u001b[90m━━━━━━━━━━━━━━━━━━━━━━━━━━━━━━━━━━━━━━━━\u001b[0m \u001b[32m1.3/1.3 MB\u001b[0m \u001b[31m3.7 MB/s\u001b[0m eta \u001b[36m0:00:00\u001b[0m00:01\u001b[0m00:01\u001b[0m\n",
      "\u001b[?25h  Installing build dependencies ... \u001b[?25ldone\n",
      "\u001b[?25h  Getting requirements to build wheel ... \u001b[?25ldone\n",
      "\u001b[?25h  Preparing metadata (pyproject.toml) ... \u001b[?25ldone\n",
      "\u001b[?25hRequirement already satisfied: packaging>=20.0 in /opt/conda/lib/python3.10/site-packages (from matplotlib>=3->hylite) (23.0)\n",
      "Requirement already satisfied: pillow>=6.2.0 in /opt/conda/lib/python3.10/site-packages (from matplotlib>=3->hylite) (9.4.0)\n",
      "Requirement already satisfied: cycler>=0.10 in /opt/conda/lib/python3.10/site-packages (from matplotlib>=3->hylite) (0.11.0)\n",
      "Requirement already satisfied: python-dateutil>=2.7 in /opt/conda/lib/python3.10/site-packages (from matplotlib>=3->hylite) (2.8.2)\n",
      "Requirement already satisfied: pyparsing>=2.3.1 in /opt/conda/lib/python3.10/site-packages (from matplotlib>=3->hylite) (3.0.9)\n",
      "Requirement already satisfied: fonttools>=4.22.0 in /opt/conda/lib/python3.10/site-packages (from matplotlib>=3->hylite) (4.39.2)\n",
      "Requirement already satisfied: kiwisolver>=1.0.1 in /opt/conda/lib/python3.10/site-packages (from matplotlib>=3->hylite) (1.4.4)\n",
      "Requirement already satisfied: contourpy>=1.0.1 in /opt/conda/lib/python3.10/site-packages (from matplotlib>=3->hylite) (1.0.7)\n",
      "Requirement already satisfied: llvmlite<0.40,>=0.39.0dev0 in /opt/conda/lib/python3.10/site-packages (from numba->hylite) (0.39.1)\n",
      "Requirement already satisfied: setuptools in /opt/conda/lib/python3.10/site-packages (from numba->hylite) (67.6.0)\n",
      "Requirement already satisfied: networkx>=2.2 in /opt/conda/lib/python3.10/site-packages (from scikit-image->hylite) (3.0)\n",
      "Requirement already satisfied: tifffile>=2019.7.26 in /opt/conda/lib/python3.10/site-packages (from scikit-image->hylite) (2023.3.21)\n",
      "Requirement already satisfied: PyWavelets>=1.1.1 in /opt/conda/lib/python3.10/site-packages (from scikit-image->hylite) (1.4.1)\n",
      "Requirement already satisfied: six>=1.5 in /opt/conda/lib/python3.10/site-packages (from python-dateutil>=2.7->matplotlib>=3->hylite) (1.16.0)\n",
      "Building wheels for collected packages: gfit, laspy, roipoly, utm\n",
      "  Building wheel for gfit (setup.py) ... \u001b[?25ldone\n",
      "\u001b[?25h  Created wheel for gfit: filename=gfit-0.2-py3-none-any.whl size=12365 sha256=d2da442ca648a263bc880baa6e788d491d52a6f3a3f148319d5dbc9f9c5c0a36\n",
      "  Stored in directory: /home/jovyan/.cache/pip/wheels/28/32/13/71ba993f9eeeac44aa8d61175a0577cd2bd71dd0a5c3cedebf\n",
      "  Building wheel for laspy (pyproject.toml) ... \u001b[?25ldone\n",
      "\u001b[?25h  Created wheel for laspy: filename=laspy-2.4.1-py3-none-any.whl size=68045 sha256=3806be68b92c970baa9b67f00261e54e22b077d132ea99fea4b3914e2bef1d3c\n",
      "  Stored in directory: /home/jovyan/.cache/pip/wheels/04/a4/0c/c8e8ba29abc06fafe864c7c4402748ceb617a7c057e8cc8579\n",
      "  Building wheel for roipoly (setup.py) ... \u001b[?25ldone\n",
      "\u001b[?25h  Created wheel for roipoly: filename=roipoly-0.5.3-py3-none-any.whl size=9621 sha256=8d9855ff56065b19efd0e62e8f53e2e6fa61ba5c3e29f6231ec95d5cc4b80197\n",
      "  Stored in directory: /home/jovyan/.cache/pip/wheels/21/bd/8e/b3f3eb8d3792e0b4dce31411cbf0f0059561e963c90061a70d\n",
      "  Building wheel for utm (setup.py) ... \u001b[?25ldone\n",
      "\u001b[?25h  Created wheel for utm: filename=utm-0.7.0-py3-none-any.whl size=6085 sha256=e2254fdb6323c8c826a7188c7fb6c969d475763d31a71ec6bb27f1ebbe6d81df\n",
      "  Stored in directory: /home/jovyan/.cache/pip/wheels/2f/a1/c8/543df0e8f5e824c3e92a432e32deb9cd89ae686095ee8cfcbe\n",
      "Successfully built gfit laspy roipoly utm\n",
      "Installing collected packages: utm, plyfile, piexif, opencv-contrib-python, laspy, astral, gfit, roipoly, hylite\n",
      "Successfully installed astral-3.2 gfit-0.2 hylite-1.21 laspy-2.4.1 opencv-contrib-python-4.7.0.72 piexif-1.1.3 plyfile-0.9 roipoly-0.5.3 utm-0.7.0\n"
     ]
    }
   ],
   "source": [
    "!pip install hylite"
   ]
  }
 ],
 "metadata": {
  "kernelspec": {
   "display_name": "Python 3 (ipykernel)",
   "language": "python",
   "name": "python3"
  },
  "language_info": {
   "codemirror_mode": {
    "name": "ipython",
    "version": 3
   },
   "file_extension": ".py",
   "mimetype": "text/x-python",
   "name": "python",
   "nbconvert_exporter": "python",
   "pygments_lexer": "ipython3",
   "version": "3.10.10"
  }
 },
 "nbformat": 4,
 "nbformat_minor": 5
}
