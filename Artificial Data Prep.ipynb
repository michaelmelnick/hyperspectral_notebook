{
 "cells": [
  {
   "cell_type": "markdown",
   "id": "69defaea-c673-454c-ae17-15d4325ec2b4",
   "metadata": {},
   "source": [
    "### Goals\n",
    "\n",
    "The idea here is to make a set of data as close as possible to what we're planning to use for hyperspectral. A lot is going to change inevitably, but having data as close to what we're planning will allow for a much better basic pipeline to rely on when we actually move to production"
   ]
  },
  {
   "cell_type": "code",
   "execution_count": 130,
   "id": "dad34a68-4a50-42e7-82bd-2024404cda46",
   "metadata": {
    "tags": []
   },
   "outputs": [
    {
     "name": "stdout",
     "output_type": "stream",
     "text": [
      "Requirement already satisfied: opencv-python in /opt/conda/lib/python3.10/site-packages (4.7.0.72)\n",
      "Requirement already satisfied: numpy>=1.19.3 in /opt/conda/lib/python3.10/site-packages (from opencv-python) (1.23.5)\n"
     ]
    }
   ],
   "source": [
    "!pip install opencv-python\n",
    "\n",
    "import cv2\n",
    "import os\n",
    "import re\n",
    "import os\n",
    "import matplotlib.pyplot as plt\n",
    "from PIL import Image\n",
    "import pandas as pd\n",
    "import numpy as np\n",
    "\n",
    "# Quick function to convert our tif files to an AVI to imitate our future plans\n",
    "\n",
    "def tif_to_avi(tif_folder, output_avi_path):\n",
    "    # Get all the tif files in the folder\n",
    "    tif_files = [f for f in os.listdir(tif_folder) if f.endswith('.tif')]\n",
    "\n",
    "    # Sort the files numerically using regular expressions\n",
    "    tif_files.sort(key=lambda x: int(re.findall('\\d+', x)[0]))\n",
    "\n",
    "    # Read the first file to get image dimensions\n",
    "    first_tif = cv2.imread(os.path.join(tif_folder, tif_files[0]), cv2.IMREAD_GRAYSCALE)\n",
    "    height, width = first_tif.shape\n",
    "\n",
    "    # Create the video writer object\n",
    "    fourcc = cv2.VideoWriter_fourcc(*'XVID')\n",
    "    video_writer = cv2.VideoWriter(output_avi_path, fourcc, 30.0, (width, height), isColor=False)\n",
    "\n",
    "    # Loop through the tif files and add them to the video\n",
    "    for tif_file in tif_files:\n",
    "        tif_path = os.path.join(tif_folder, tif_file)\n",
    "        frame = cv2.imread(tif_path, cv2.IMREAD_GRAYSCALE)\n",
    "        video_writer.write(frame)\n",
    "\n",
    "    # Release the video writer\n",
    "    video_writer.release()\n",
    "\n",
    "    "
   ]
  },
  {
   "cell_type": "code",
   "execution_count": 44,
   "id": "73c188d7-491f-4606-a64d-7c43b28fb55b",
   "metadata": {
    "tags": []
   },
   "outputs": [
    {
     "data": {
      "text/plain": [
       "\u001b[0;31mInit signature:\u001b[0m \u001b[0mcv2\u001b[0m\u001b[0;34m.\u001b[0m\u001b[0mVideoWriter\u001b[0m\u001b[0;34m(\u001b[0m\u001b[0mself\u001b[0m\u001b[0;34m,\u001b[0m \u001b[0;34m/\u001b[0m\u001b[0;34m,\u001b[0m \u001b[0;34m*\u001b[0m\u001b[0margs\u001b[0m\u001b[0;34m,\u001b[0m \u001b[0;34m**\u001b[0m\u001b[0mkwargs\u001b[0m\u001b[0;34m)\u001b[0m\u001b[0;34m\u001b[0m\u001b[0;34m\u001b[0m\u001b[0m\n",
       "\u001b[0;31mDocstring:\u001b[0m      <no docstring>\n",
       "\u001b[0;31mFile:\u001b[0m           /opt/conda/lib/python3.10/site-packages/cv2/__init__.py\n",
       "\u001b[0;31mType:\u001b[0m           type\n",
       "\u001b[0;31mSubclasses:\u001b[0m     "
      ]
     },
     "metadata": {},
     "output_type": "display_data"
    }
   ],
   "source": [
    "# tif_to_avi('100fps_80px/', './80px.avi')"
   ]
  },
  {
   "cell_type": "code",
   "execution_count": 39,
   "id": "6463e121-42aa-480d-afbd-79f120ff9033",
   "metadata": {
    "tags": []
   },
   "outputs": [],
   "source": [
    "import cv2\n",
    "import numpy as np\n",
    "\n",
    "# Load an AVI to a numpy array\n",
    "def avi_to_3d_array(avi_path):\n",
    "    # Open the video file\n",
    "    cap = cv2.VideoCapture(avi_path)\n",
    "\n",
    "    # Get the dimensions of the frames\n",
    "    width = int(cap.get(cv2.CAP_PROP_FRAME_WIDTH))\n",
    "    height = int(cap.get(cv2.CAP_PROP_FRAME_HEIGHT))\n",
    "    fps = int(cap.get(cv2.CAP_PROP_FPS))\n",
    "\n",
    "    # Initialize the numpy array\n",
    "    num_frames = int(cap.get(cv2.CAP_PROP_FRAME_COUNT))\n",
    "    arr = np.zeros((num_frames, height, width, 3), dtype=np.uint8)\n",
    "\n",
    "    # Loop through the frames and add them to the numpy array\n",
    "    for i in range(num_frames):\n",
    "        ret, frame = cap.read()\n",
    "        if ret:\n",
    "            arr[i] = frame\n",
    "\n",
    "    # Release the video capture object\n",
    "    cap.release()\n",
    "\n",
    "    return arr\n"
   ]
  },
  {
   "cell_type": "code",
   "execution_count": 125,
   "id": "aa6c99d4-7eee-463e-b5da-bae80df3047b",
   "metadata": {
    "tags": []
   },
   "outputs": [
    {
     "data": {
      "text/plain": [
       "<matplotlib.image.AxesImage at 0xffff0bfee920>"
      ]
     },
     "execution_count": 125,
     "metadata": {},
     "output_type": "execute_result"
    },
    {
     "data": {
      "image/png": "[encoded data removed]",
      "text/plain": [
       "<Figure size 640x480 with 1 Axes>"
      ]
     },
     "metadata": {},
     "output_type": "display_data"
    }
   ],
   "source": [
    "# Loads the data, ditches the redundant color dimension assumed from the AVI, reshapes it to be X,Y,channels\n",
    "\n",
    "input_data = avi_to_3d_array('./80px.avi')[:,:,:,0].reshape(80, 2200, 256)\n",
    "plt.imshow(input_data[:,:,0])\n"
   ]
  },
  {
   "cell_type": "code",
   "execution_count": 126,
   "id": "a385f35f-5d71-42fe-97d0-8c7b26d2e9bf",
   "metadata": {
    "tags": []
   },
   "outputs": [
    {
     "data": {
      "text/plain": [
       "(0, 255, 75.11859556995739, 69.39848335772801)"
      ]
     },
     "execution_count": 126,
     "metadata": {},
     "output_type": "execute_result"
    }
   ],
   "source": [
    "input_data.min(), input_data.max(), input_data.mean(), input_data.std()"
   ]
  },
  {
   "cell_type": "code",
   "execution_count": 124,
   "id": "b3c727a1-c11d-4896-bfa4-5c65452dbba4",
   "metadata": {
    "tags": []
   },
   "outputs": [],
   "source": [
    "tif_folder = '100fps_80px/'\n",
    "output_avi_path = './80px.avi'\n",
    "\n",
    "# Get all the tif files in the folder\n",
    "tif_files = [f for f in os.listdir(tif_folder) if f.endswith('.tif')]\n",
    "\n",
    "# Sort the files numerically using regular expressions\n",
    "tif_files.sort(key=lambda x: int(re.findall('\\d+', x)[0]))\n",
    "\n",
    "# Read the first file to get image dimensions\n",
    "first_tif = cv2.imread(os.path.join(tif_folder, tif_files[0]), cv2.IMREAD_UNCHANGED)\n",
    "height, width = first_tif.shape\n",
    "\n",
    "# Create the video writer object\n",
    "fourcc = cv2.VideoWriter_fourcc(*'XVID')\n",
    "video_writer = cv2.VideoWriter(output_avi_path,\n",
    "                               fourcc, 30.0,\n",
    "                               (width, height),\n",
    "                               isColor=False)\n",
    "\n",
    "# Loop through the tif files and add them to the video\n",
    "for tif_file in tif_files:\n",
    "    tif_path = os.path.join(tif_folder, tif_file)\n",
    "    frame = cv2.imread(tif_path, cv2.IMREAD_UNCHANGED)\n",
    "    video_writer.write(frame)\n",
    "\n",
    "# Release the video writer\n",
    "video_writer.release()"
   ]
  },
  {
   "cell_type": "markdown",
   "id": "3861a521-7e65-44ac-b034-30e97781782a",
   "metadata": {},
   "source": [
    "### Notes\n",
    "\n",
    "So, Python's OpenCV package is doing a *lot* to the data it's not talking about. When you load an image using OpenCV's imread function it's adding a typical RGB dimension to these .tif files that doesn't exist. It's replicating the current image 3 times in order to do that, so it's not very efficient either. \n",
    "\n",
    "OpenCV *also* is converting natively to a different datatype, and collapsing the actual tif values into a range of 1-256. We really don't want it doing that. \n",
    "\n",
    "This can be fixed be appending cv2.IMREAD_ANYDEPTH to the `imread` function, or cv2.IMREAD_ANYCOLOR, but to do both we need cv2.IMREAD_UNCHANGED. It's worth noting that the `imread` function in Matplotlib's PyPlot just returns the data natively. Okay, onwards. "
   ]
  },
  {
   "cell_type": "code",
   "execution_count": 128,
   "id": "456a5c92-cced-4359-a3b8-3b1bb3b840d0",
   "metadata": {
    "tags": []
   },
   "outputs": [],
   "source": [
    "# Functions to use\n",
    "\n",
    "# Functions we'll use\n",
    "\n",
    "def fetch_image_data(image_path: str, \n",
    "                     show_image: bool = True) -> np.ndarray:\n",
    "    \"\"\"\n",
    "    Reads an image file from the given path using Pillow, and returns it as a NumPy array.\n",
    "    Optionally, displays the image using Matplotlib.\n",
    "\n",
    "    Args:\n",
    "        image_path (str): Path to the image file.\n",
    "        show_image (bool): Whether to display the image using Matplotlib. Default is True.\n",
    "\n",
    "    Returns:\n",
    "        np.ndarray: A NumPy array representing the image.\n",
    "\n",
    "    Raises:\n",
    "        FileNotFoundError: If the specified image file does not exist.\n",
    "        ValueError: If the specified image file is not a valid image file or could not be read.\n",
    "\n",
    "    \"\"\"\n",
    "\n",
    "    if not os.path.isfile(image_path):\n",
    "        raise FileNotFoundError(f\"{image_path} not found\")\n",
    "    try:\n",
    "        with Image.open(image_path) as image:\n",
    "            example_image = plt.imread(image_path)\n",
    "            if show_image:\n",
    "                plt.figure()\n",
    "                plt.imshow(example_image)\n",
    "                plt.title('Image display of: ' + image_path)\n",
    "            return example_image\n",
    "    except Exception as e:\n",
    "        raise ValueError(f\"Could not read {image_path}: {str(e)}\")\n"
   ]
  },
  {
   "cell_type": "code",
   "execution_count": 333,
   "id": "b9716d48-55f0-46c6-bba8-423dcdc54f11",
   "metadata": {
    "tags": []
   },
   "outputs": [],
   "source": [
    "# Calibration system will need to take a set of inputs\n",
    "\n",
    "# First let's make a calibration that's a little bit more accurate\n",
    "\n",
    "# Collect and display all the image data we're currently interested in \n",
    "curr_image = fetch_image_data('hvc 2197.tif', show_image=False)\n",
    "\n",
    "white_ref = fetch_image_data('calibration_data/spectralon 0.15ms.tif', show_image=False)\n",
    "dark_ref = fetch_image_data('calibration_data/dark 0.15ms.tif', show_image=False)\n",
    "wavelength_ref = fetch_image_data('calibration_data/avian_wavelength_cal.tif', show_image=False)\n",
    "\n",
    "# # Do the same for CSV data\n",
    "# ref_5_df = pd.read_csv('calibration_data/fake_ref_5.csv', header = None)\n",
    "# ref_20_df = pd.read_csv('calibration_data/fake_ref_20.csv', header = None)\n",
    "# ref_80_df = pd.read_csv('calibration_data/fake_ref_80.csv', header = None)\n",
    "# ref_99_df = pd.read_csv('calibration_data/fake_ref_99.csv', header = None)\n",
    "\n",
    "n_bands = 256\n",
    "curr_imsize = curr_image.shape\n",
    "curr_image = curr_image.reshape(80, n_bands)\n",
    "\n",
    "n_pixels = curr_image.shape[0]\n",
    "\n",
    "white_ref_subset = white_ref.reshape(320, n_bands)[0:n_pixels, :]\n",
    "dark_ref_subset = dark_ref.reshape(320, n_bands)[0:n_pixels, :]\n",
    "\n",
    "# Add some random noise to the white ref\n",
    "zero_mat = np.zeros_like(white_ref_subset)\n",
    "# zero_mat + np.random\n",
    "noise_mat = zero_mat + np.random.normal(0, \n",
    "                                        0.05,\n",
    "                                        size = zero_mat.shape)\n",
    "\n",
    "ref05 = (white_ref_subset * 0.05)\n",
    "# Add 5% random Gaussian noise\n",
    "ref05 = ref05 + (ref05 * noise_mat)\n",
    "\n",
    "ref20 = white_ref_subset * 0.50\n",
    "ref20 = ref20 + (ref20 * noise_mat)\n",
    "\n",
    "ref80 = white_ref_subset * 0.86\n",
    "ref80 = ref80 + (ref80 * noise_mat)\n",
    "\n",
    "ref99 = white_ref_subset * 1\n",
    "# ref99 = ref99 + (ref99 * noise_mat)"
   ]
  },
  {
   "cell_type": "code",
   "execution_count": 339,
   "id": "39663d66-78bf-42c0-bb04-6f3f95a6acdc",
   "metadata": {
    "tags": []
   },
   "outputs": [
    {
     "data": {
      "text/plain": [
       "[<matplotlib.lines.Line2D at 0xfffeea74d1b0>]"
      ]
     },
     "execution_count": 339,
     "metadata": {},
     "output_type": "execute_result"
    },
    {
     "data": {
      "image/png": "[encoded data removed]",
      "text/plain": [
       "<Figure size 640x480 with 1 Axes>"
      ]
     },
     "metadata": {},
     "output_type": "display_data"
    }
   ],
   "source": [
    "# plt.plot([dark_ref_subset[0,100], white_ref_subset[0, 100]], [0, 100])\n",
    "\n",
    "# def simulate_data(original_data, a, b, c, percentile):\n",
    "#     x = np.percentile(original_data, percentile)\n",
    "#     y = a + b * x + c * x**2\n",
    "#     return y\n",
    "\n",
    "# for percentile in [5, 20, 80, 99]:\n",
    "#     a, b, c = generate_coefficients()\n",
    "#     simulated_value = simulate_data(original_data, a, b, c, percentile)\n",
    "#     print(f\"Simulated value at {percentile}%: {simulated_value}\")\n",
    "\n",
    "# Fit a quadratic equation to a data subset we generated\n",
    "curr_pix = 0\n",
    "curr_wav = 0\n",
    "\n",
    "curr_test = np.asarray([ref05[curr_pix, curr_wav], \n",
    "                        ref20[curr_pix, curr_wav], \n",
    "                        ref80[curr_pix, curr_wav], \n",
    "                        ref99[curr_pix, curr_wav], \n",
    "                        white_ref_subset[curr_pix, curr_wav]])\n",
    "\n",
    "a_fit, b_fit, c_fit = np.polynomial.Polynomial.fit(curr_test,\n",
    "                                 [5, 20, 80, 99, 100],\n",
    "                                 2)\n",
    "\n",
    "# Gen the last intermediate data from these coefficients\n",
    "\n",
    "\n",
    "def return_y(x, a_fit = a_fit, b_fit = b_fit, c_fit = c_fit):\n",
    "    y = a_fit + b_fit * x + c_fit * x**2\n",
    "    return y\n",
    "\n",
    "return_y(curr_test)\n",
    "\n",
    "plt.plot(curr_test, [5,20,80,99,100], 'o--')\n",
    "plt.plot(curr_test, return_y(curr_test), 'rx--')\n",
    "\n"
   ]
  }
 ],
 "metadata": {
  "kernelspec": {
   "display_name": "Python 3 (ipykernel)",
   "language": "python",
   "name": "python3"
  },
  "language_info": {
   "codemirror_mode": {
    "name": "ipython",
    "version": 3
   },
   "file_extension": ".py",
   "mimetype": "text/x-python",
   "name": "python",
   "nbconvert_exporter": "python",
   "pygments_lexer": "ipython3",
   "version": "3.10.10"
  }
 },
 "nbformat": 4,
 "nbformat_minor": 5
}
