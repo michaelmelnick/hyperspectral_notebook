{
 "cells": [
  {
   "cell_type": "code",
   "execution_count": 9,
   "id": "b9de9af9-296c-4ae6-a15a-33cdebeb24bf",
   "metadata": {},
   "outputs": [],
   "source": [
    "import os\n",
    "import pandas as pd\n",
    "\n"
   ]
  },
  {
   "cell_type": "code",
   "execution_count": 3,
   "id": "2da73f8c-e814-4da0-9c9f-ff035140d07d",
   "metadata": {},
   "outputs": [],
   "source": [
    "\n",
    "def list_csv_files(directory: str) -> list[str]:\n",
    "    \"\"\"\n",
    "    List all CSV files in the specified directory.\n",
    "    \n",
    "    Args:\n",
    "        directory (str): The directory path to search for CSV files.\n",
    "        \n",
    "    Returns:\n",
    "        list[str]: A list of CSV file names found in the directory.\n",
    "    \"\"\"\n",
    "    csv_files = []\n",
    "    for file in os.listdir(directory):\n",
    "        if file.endswith('.csv'):\n",
    "            csv_files.append(file)\n",
    "    return csv_files"
   ]
  },
  {
   "cell_type": "code",
   "execution_count": 109,
   "id": "068ceaf5-4d88-4b31-8719-791e3aa529b3",
   "metadata": {},
   "outputs": [],
   "source": [
    "csv_directory = 'Subset Ecostress Library - VNIR-SWIR'\n",
    "csv_files = list_csv_files(csv_directory)\n",
    "# for curr_csv_files in csv_files:\n",
    "curr_csv_file = csv_files[0]\n",
    "curr_data = pd.read_csv(os.path.join(csv_directory, curr_csv_file))\n",
    "\n",
    "def split_colon_field(input):\n",
    "    return input.split(\":\")[0]\n",
    "\n",
    "def split_colon_value(input):\n",
    "    int_str = input.split(\":\")[1:]\n",
    "    if len(int_str) == 1:\n",
    "        return int_str[0].strip()\n",
    "    elif len(int_str) > 1:\n",
    "        out_str = ''\n",
    "        for val in int_str:\n",
    "            out_str = out_str + ' ' + val\n",
    "        return out_str.strip()\n",
    "\n",
    "def parse_ecostress_csv(curr_data):\n",
    "\n",
    "    curr_metadata = curr_data.iloc[0:19, 0]\n",
    "    # meta_data_dict = curr_metadata\n",
    "    field_name = curr_metadata.apply(split_colon_field)\n",
    "    value = curr_metadata.apply(split_colon_value)\n",
    "    \n",
    "    meta_dict = {}\n",
    "    \n",
    "    for i, f_name in enumerate(field_name):\n",
    "        meta_dict[f_name] = value[i]\n",
    "        \n",
    "    curr_spectrum = curr_data.iloc[20:, :]\n",
    "    \n",
    "    spectrum_dict = {}\n",
    "    \n",
    "    spectrum_dict['spectrum_wavelengths'] = curr_spectrum.iloc[:,0].astype(float).values.tolist()\n",
    "    \n",
    "    spectrum_dict['spectrum_values'] = curr_spectrum.iloc[:,1].astype(float).values.tolist()\n",
    "\n",
    "    return meta_dict, spectrum_dict\n",
    "\n"
   ]
  },
  {
   "cell_type": "code",
   "execution_count": 110,
   "id": "519d82e3-c034-4786-82da-978079201797",
   "metadata": {},
   "outputs": [],
   "source": [
    "meta_dict, spectrum_dict = parse_ecostress_csv(curr_data)\n"
   ]
  }
 ],
 "metadata": {
  "kernelspec": {
   "display_name": "Python 3 (ipykernel)",
   "language": "python",
   "name": "python3"
  },
  "language_info": {
   "codemirror_mode": {
    "name": "ipython",
    "version": 3
   },
   "file_extension": ".py",
   "mimetype": "text/x-python",
   "name": "python",
   "nbconvert_exporter": "python",
   "pygments_lexer": "ipython3",
   "version": "3.11.3"
  }
 },
 "nbformat": 4,
 "nbformat_minor": 5
}
